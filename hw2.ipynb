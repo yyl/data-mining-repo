{
 "metadata": {
  "name": "",
  "signature": "sha256:3d6753004134b9ca5debc5342da747912c824af07a15837bf20227fa3e0b53ae"
 },
 "nbformat": 3,
 "nbformat_minor": 0,
 "worksheets": [
  {
   "cells": [
    {
     "cell_type": "code",
     "collapsed": false,
     "input": [
      "import math\n",
      "import pandas as pd\n",
      "data = pd.read_csv(\"./data1.csv\")"
     ],
     "language": "python",
     "metadata": {},
     "outputs": [],
     "prompt_number": 28
    },
    {
     "cell_type": "code",
     "collapsed": false,
     "input": [
      "def computeEntropy(df, cla):\n",
      "    count = list(df.groupby(cla)[cla].count())\n",
      "    total = float(sum(count))\n",
      "    prob = (c/total for c in count)\n",
      "    return sum([-p*math.log(p, 2) for p in prob])\n",
      "\n",
      "def infoGain(df, cla, col):\n",
      "    res = computeEntropy(df, cla)\n",
      "    n = df[cla].count()\n",
      "    for typ in df[col].unique():\n",
      "        n_i = df[df[col]==typ][cla].count()\n",
      "        res -= computeEntropy(df[df[col]==typ], cla) * (float(n_i)/n)\n",
      "    return res"
     ],
     "language": "python",
     "metadata": {},
     "outputs": [],
     "prompt_number": 108
    },
    {
     "cell_type": "markdown",
     "metadata": {},
     "source": [
      "## 1"
     ]
    },
    {
     "cell_type": "code",
     "collapsed": false,
     "input": [
      "print \"(a). total entropy = %f\" % computeEntropy(data, \"Class\")\n",
      "print \"(b). movie ID entropy = %f\" % computeEntropy(data, \"ID\")\n",
      "print \"(c). Format entropy = %f\" % computeEntropy(data, \"Format\")\n",
      "print \"(d). Movie Category entropy = %f\" % computeEntropy(data, \"Category\")"
     ],
     "language": "python",
     "metadata": {},
     "outputs": [
      {
       "output_type": "stream",
       "stream": "stdout",
       "text": [
        "(a). total entropy = 1.000000\n",
        "(b). movie ID entropy = 4.321928\n",
        "(c). Format entropy = 0.970951\n",
        "(d). Movie Category entropy = 1.521928\n"
       ]
      }
     ],
     "prompt_number": 81
    },
    {
     "cell_type": "markdown",
     "metadata": {},
     "source": [
      "(e). Movie format has the lowest entropy"
     ]
    },
    {
     "cell_type": "markdown",
     "metadata": {},
     "source": [
      "(f). We choose attributes based on information gain:"
     ]
    },
    {
     "cell_type": "code",
     "collapsed": false,
     "input": [
      "print \"Info gain if splitting on:\" \n",
      "print \"Format:   %f\" % infoGain(data, \"Class\", \"Format\")\n",
      "print \"Category: %f\" % infoGain(data, \"Class\", \"Category\")\n",
      "print \"ID:       %f\" % infoGain(data, \"Class\", \"ID\")"
     ],
     "language": "python",
     "metadata": {},
     "outputs": [
      {
       "output_type": "stream",
       "stream": "stdout",
       "text": [
        "Info gain if splitting on:\n",
        "Format:   0.124511\n",
        "Category: 0.295807\n",
        "ID:       1.000000"
       ]
      },
      {
       "output_type": "stream",
       "stream": "stdout",
       "text": [
        "\n"
       ]
      }
     ],
     "prompt_number": 114
    },
    {
     "cell_type": "markdown",
     "metadata": {},
     "source": [
      "The rule is to choose the attribute that gives you the highest information gain. In this case, although that would be \"ID\", the thing is \"ID\" will split the data into 20 nodes where each node contains only one data point. Therefore, we should not consider it as a valid classification. Without that, we should choose \"Category\" as it gives the second largest info gain."
     ]
    },
    {
     "cell_type": "markdown",
     "metadata": {},
     "source": [
      "## 2"
     ]
    }
   ],
   "metadata": {}
  }
 ]
}